{
 "cells": [
  {
   "cell_type": "code",
   "execution_count": 16,
   "id": "924e5d9a",
   "metadata": {},
   "outputs": [
    {
     "data": {
      "text/html": [
       "<!DOCTYPE HTML PUBLIC \"-//W3C//DTD HTML 4.01 Transitional//EN\" \"http://www.w3.org/TR/html4/loose.dtd\">\n",
       "<html>\n",
       "<head>\n",
       "<title>DBpedia Spotlight annotation</title>\n",
       "<meta http-equiv=\"Content-type\" content=\"text/html;charset=UTF-8\">\n",
       "</head>\n",
       "<body>\n",
       "<div>\n",
       "Marks and Spencers Ltd\n",
       "</div>\n",
       "</body>\n",
       "</html>"
      ],
      "text/plain": [
       "<IPython.core.display.HTML object>"
      ]
     },
     "metadata": {},
     "output_type": "display_data"
    }
   ],
   "source": [
    "import requests\n",
    "from IPython.core.display import display, HTML# An API Error Exception\n",
    "\n",
    "class APIError(Exception):\n",
    "    def __init__(self, status):\n",
    "        self.status = status\n",
    "    def __str__(self):\n",
    "        return \"APIError: status={}\".format(self.status)\n",
    "      \n",
    "# Base URL for Spotlight API\n",
    "base_url = \"http://api.dbpedia-spotlight.org/en/annotate\"\n",
    "\n",
    "# Parameters \n",
    "# 'text' - text to be annotated \n",
    "# 'confidence' -   confidence score for linking\n",
    "params = {\"text\": \"Marks and Spencers Ltd\", \"confidence\": 0.5}\n",
    "# Response content type\n",
    "headers = {'accept': 'text/html'}\n",
    "# GET Request\n",
    "res = requests.get(base_url, params=params, headers=headers)\n",
    "if res.status_code != 200:\n",
    "    # Something went wrong\n",
    "    raise APIError(res.status_code)\n",
    "\n",
    "# Display the result as HTML in Jupyter Notebook\n",
    "display(HTML(res.text))\n"
   ]
  },
  {
   "cell_type": "code",
   "execution_count": 8,
   "id": "ed9ffa10",
   "metadata": {},
   "outputs": [
    {
     "ename": "CountryDetectionMissing",
     "evalue": "Detection rules for country \"CHINA\" not found.",
     "output_type": "error",
     "traceback": [
      "\u001B[0;31m---------------------------------------------------------------------------\u001B[0m",
      "\u001B[0;31mModuleNotFoundError\u001B[0m                       Traceback (most recent call last)",
      "\u001B[0;32m~/miniconda3/envs/vector37/lib/python3.7/site-packages/pyap/parser.py\u001B[0m in \u001B[0;36m__init__\u001B[0;34m(self, **args)\u001B[0m\n\u001B[1;32m     35\u001B[0m                 \u001B[0;34m'.data'\u001B[0m\u001B[0;34m\u001B[0m\u001B[0;34m\u001B[0m\u001B[0m\n\u001B[0;32m---> 36\u001B[0;31m             \u001B[0mdata\u001B[0m \u001B[0;34m=\u001B[0m \u001B[0mimportlib\u001B[0m\u001B[0;34m.\u001B[0m\u001B[0mimport_module\u001B[0m\u001B[0;34m(\u001B[0m\u001B[0mpackage\u001B[0m\u001B[0;34m)\u001B[0m\u001B[0;34m\u001B[0m\u001B[0;34m\u001B[0m\u001B[0m\n\u001B[0m\u001B[1;32m     37\u001B[0m             \u001B[0mself\u001B[0m\u001B[0;34m.\u001B[0m\u001B[0mrules\u001B[0m \u001B[0;34m=\u001B[0m \u001B[0mdata\u001B[0m\u001B[0;34m.\u001B[0m\u001B[0mfull_address\u001B[0m\u001B[0;34m\u001B[0m\u001B[0;34m\u001B[0m\u001B[0m\n",
      "\u001B[0;32m~/miniconda3/envs/vector37/lib/python3.7/importlib/__init__.py\u001B[0m in \u001B[0;36mimport_module\u001B[0;34m(name, package)\u001B[0m\n\u001B[1;32m    126\u001B[0m             \u001B[0mlevel\u001B[0m \u001B[0;34m+=\u001B[0m \u001B[0;36m1\u001B[0m\u001B[0;34m\u001B[0m\u001B[0;34m\u001B[0m\u001B[0m\n\u001B[0;32m--> 127\u001B[0;31m     \u001B[0;32mreturn\u001B[0m \u001B[0m_bootstrap\u001B[0m\u001B[0;34m.\u001B[0m\u001B[0m_gcd_import\u001B[0m\u001B[0;34m(\u001B[0m\u001B[0mname\u001B[0m\u001B[0;34m[\u001B[0m\u001B[0mlevel\u001B[0m\u001B[0;34m:\u001B[0m\u001B[0;34m]\u001B[0m\u001B[0;34m,\u001B[0m \u001B[0mpackage\u001B[0m\u001B[0;34m,\u001B[0m \u001B[0mlevel\u001B[0m\u001B[0;34m)\u001B[0m\u001B[0;34m\u001B[0m\u001B[0;34m\u001B[0m\u001B[0m\n\u001B[0m\u001B[1;32m    128\u001B[0m \u001B[0;34m\u001B[0m\u001B[0m\n",
      "\u001B[0;32m~/miniconda3/envs/vector37/lib/python3.7/importlib/_bootstrap.py\u001B[0m in \u001B[0;36m_gcd_import\u001B[0;34m(name, package, level)\u001B[0m\n",
      "\u001B[0;32m~/miniconda3/envs/vector37/lib/python3.7/importlib/_bootstrap.py\u001B[0m in \u001B[0;36m_find_and_load\u001B[0;34m(name, import_)\u001B[0m\n",
      "\u001B[0;32m~/miniconda3/envs/vector37/lib/python3.7/importlib/_bootstrap.py\u001B[0m in \u001B[0;36m_find_and_load_unlocked\u001B[0;34m(name, import_)\u001B[0m\n",
      "\u001B[0;32m~/miniconda3/envs/vector37/lib/python3.7/importlib/_bootstrap.py\u001B[0m in \u001B[0;36m_call_with_frames_removed\u001B[0;34m(f, *args, **kwds)\u001B[0m\n",
      "\u001B[0;32m~/miniconda3/envs/vector37/lib/python3.7/importlib/_bootstrap.py\u001B[0m in \u001B[0;36m_gcd_import\u001B[0;34m(name, package, level)\u001B[0m\n",
      "\u001B[0;32m~/miniconda3/envs/vector37/lib/python3.7/importlib/_bootstrap.py\u001B[0m in \u001B[0;36m_find_and_load\u001B[0;34m(name, import_)\u001B[0m\n",
      "\u001B[0;32m~/miniconda3/envs/vector37/lib/python3.7/importlib/_bootstrap.py\u001B[0m in \u001B[0;36m_find_and_load_unlocked\u001B[0;34m(name, import_)\u001B[0m\n",
      "\u001B[0;31mModuleNotFoundError\u001B[0m: No module named 'pyap.source_CHINA'",
      "\nDuring handling of the above exception, another exception occurred:\n",
      "\u001B[0;31mCountryDetectionMissing\u001B[0m                   Traceback (most recent call last)",
      "\u001B[0;32m<ipython-input-8-69b130dcb0f6>\u001B[0m in \u001B[0;36m<module>\u001B[0;34m\u001B[0m\n\u001B[1;32m      3\u001B[0m \u001B[0;36m44\u001B[0m \u001B[0mCHINA\u001B[0m \u001B[0mROAD\u001B[0m\u001B[0;34m,\u001B[0m \u001B[0mKOWLOON\u001B[0m\u001B[0;34m,\u001B[0m \u001B[0mHONG\u001B[0m \u001B[0mKONG\u001B[0m\u001B[0;34m\u001B[0m\u001B[0;34m\u001B[0m\u001B[0m\n\u001B[1;32m      4\u001B[0m \"\"\"\n\u001B[0;32m----> 5\u001B[0;31m \u001B[0maddresses\u001B[0m \u001B[0;34m=\u001B[0m \u001B[0mpyap\u001B[0m\u001B[0;34m.\u001B[0m\u001B[0mparse\u001B[0m\u001B[0;34m(\u001B[0m\u001B[0mtest_address\u001B[0m\u001B[0;34m,\u001B[0m \u001B[0mcountry\u001B[0m\u001B[0;34m=\u001B[0m\u001B[0;34m\"China\"\u001B[0m\u001B[0;34m)\u001B[0m\u001B[0;34m\u001B[0m\u001B[0;34m\u001B[0m\u001B[0m\n\u001B[0m\u001B[1;32m      6\u001B[0m \u001B[0;32mfor\u001B[0m \u001B[0maddress\u001B[0m \u001B[0;32min\u001B[0m \u001B[0maddresses\u001B[0m\u001B[0;34m:\u001B[0m\u001B[0;34m\u001B[0m\u001B[0;34m\u001B[0m\u001B[0m\n\u001B[1;32m      7\u001B[0m     \u001B[0;31m# shows found address\u001B[0m\u001B[0;34m\u001B[0m\u001B[0;34m\u001B[0m\u001B[0;34m\u001B[0m\u001B[0m\n",
      "\u001B[0;32m~/miniconda3/envs/vector37/lib/python3.7/site-packages/pyap/api.py\u001B[0m in \u001B[0;36mparse\u001B[0;34m(some_text, **kwargs)\u001B[0m\n\u001B[1;32m     18\u001B[0m     \u001B[0;32mand\u001B[0m \u001B[0mreturns\u001B[0m \u001B[0mlist\u001B[0m \u001B[0mof\u001B[0m \u001B[0mAddress\u001B[0m \u001B[0mobjects\u001B[0m\u001B[0;34m\u001B[0m\u001B[0;34m\u001B[0m\u001B[0m\n\u001B[1;32m     19\u001B[0m     \"\"\"\n\u001B[0;32m---> 20\u001B[0;31m     \u001B[0map\u001B[0m \u001B[0;34m=\u001B[0m \u001B[0mparser\u001B[0m\u001B[0;34m.\u001B[0m\u001B[0mAddressParser\u001B[0m\u001B[0;34m(\u001B[0m\u001B[0;34m**\u001B[0m\u001B[0mkwargs\u001B[0m\u001B[0;34m)\u001B[0m\u001B[0;34m\u001B[0m\u001B[0;34m\u001B[0m\u001B[0m\n\u001B[0m\u001B[1;32m     21\u001B[0m     \u001B[0;32mreturn\u001B[0m \u001B[0map\u001B[0m\u001B[0;34m.\u001B[0m\u001B[0mparse\u001B[0m\u001B[0;34m(\u001B[0m\u001B[0msome_text\u001B[0m\u001B[0;34m)\u001B[0m\u001B[0;34m\u001B[0m\u001B[0;34m\u001B[0m\u001B[0m\n",
      "\u001B[0;32m~/miniconda3/envs/vector37/lib/python3.7/site-packages/pyap/parser.py\u001B[0m in \u001B[0;36m__init__\u001B[0;34m(self, **args)\u001B[0m\n\u001B[1;32m     45\u001B[0m             raise e.CountryDetectionMissing(\n\u001B[1;32m     46\u001B[0m                 \u001B[0;34m'Detection rules for country \"{country}\" not found.'\u001B[0m\u001B[0;34m.\u001B[0m\u001B[0;34m\u001B[0m\u001B[0;34m\u001B[0m\u001B[0m\n\u001B[0;32m---> 47\u001B[0;31m                 \u001B[0mformat\u001B[0m\u001B[0;34m(\u001B[0m\u001B[0mcountry\u001B[0m\u001B[0;34m=\u001B[0m\u001B[0mself\u001B[0m\u001B[0;34m.\u001B[0m\u001B[0mcountry\u001B[0m\u001B[0;34m)\u001B[0m\u001B[0;34m,\u001B[0m \u001B[0;34m'Error 2'\u001B[0m\u001B[0;34m\u001B[0m\u001B[0;34m\u001B[0m\u001B[0m\n\u001B[0m\u001B[1;32m     48\u001B[0m             )\n\u001B[1;32m     49\u001B[0m \u001B[0;34m\u001B[0m\u001B[0m\n",
      "\u001B[0;31mCountryDetectionMissing\u001B[0m: Detection rules for country \"CHINA\" not found."
     ]
    }
   ],
   "source": [
    "import pyap\n",
    "test_address = \"\"\"\n",
    "44 CHINA ROAD, KOWLOON, HONG KONG\n",
    "\"\"\"\n",
    "addresses = pyap.parse(test_address)\n",
    "for address in addresses:\n",
    "    # shows found address\n",
    "    print(address)\n",
    "    # shows address parts\n",
    "    print(address.as_dict())"
   ]
  }
 ],
 "metadata": {
  "kernelspec": {
   "display_name": "Python 3",
   "language": "python",
   "name": "python3"
  },
  "language_info": {
   "codemirror_mode": {
    "name": "ipython",
    "version": 3
   },
   "file_extension": ".py",
   "mimetype": "text/x-python",
   "name": "python",
   "nbconvert_exporter": "python",
   "pygments_lexer": "ipython3",
   "version": "3.9.5"
  }
 },
 "nbformat": 4,
 "nbformat_minor": 5
}