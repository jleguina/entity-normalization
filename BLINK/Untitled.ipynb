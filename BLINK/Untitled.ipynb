{
 "cells": [
  {
   "cell_type": "code",
   "execution_count": null,
   "id": "fe343594",
   "metadata": {},
   "outputs": [],
   "source": [
    "import blink.main_dense as main_dense\n",
    "import argparse\n",
    "\n",
    "models_path = \"models/\" # the path where you stored the BLINK models\n",
    "\n",
    "config = {\n",
    "    \"test_entities\": None,\n",
    "    \"test_mentions\": None,\n",
    "    \"interactive\": False,\n",
    "    \"top_k\": 4,\n",
    "    \"biencoder_model\": models_path+\"biencoder_wiki_large.bin\",\n",
    "    \"biencoder_config\": models_path+\"biencoder_wiki_large.json\",\n",
    "    \"entity_catalogue\": models_path+\"entity.jsonl\",\n",
    "    \"entity_encoding\": models_path+\"all_entities_large.t7\",\n",
    "    \"crossencoder_model\": models_path+\"crossencoder_wiki_large.bin\",\n",
    "    \"crossencoder_config\": models_path+\"crossencoder_wiki_large.json\",\n",
    "    \"fast\": True, # set this to be true if speed is a concern\n",
    "    \"output_path\": \"logs/\" # logging directory\n",
    "}\n",
    "\n",
    "args = argparse.Namespace(**config)\n",
    "\n",
    "models = main_dense.load_models(args, logger=None)\n",
    "\n",
    "data_to_link = [ {\n",
    "                    \"id\": 0,\n",
    "                    \"label\": \"unknown\",\n",
    "                    \"label_id\": -1,\n",
    "                    \"context_left\": \"\".lower(),\n",
    "                    \"mention\": \"Shakespeare\".lower(),\n",
    "                    \"context_right\": \"'s account of the Roman general Julius Caesar's murder by his friend Brutus is a meditation on duty.\".lower(),\n",
    "                },\n",
    "                {\n",
    "                    \"id\": 1,\n",
    "                    \"label\": \"unknown\",\n",
    "                    \"label_id\": -1,\n",
    "                    \"context_left\": \"Shakespeare's account of the Roman general\".lower(),\n",
    "                    \"mention\": \"Julius Caesar\".lower(),\n",
    "                    \"context_right\": \"'s murder by his friend Brutus is a meditation on duty.\".lower(),\n",
    "                }\n",
    "                ]\n",
    "\n",
    "_, _, _, _, _, predictions, scores, = main_dense.run(args, None, *models, test_data=data_to_link)\n",
    "\n"
   ]
  },
  {
   "cell_type": "code",
   "execution_count": null,
   "id": "fa1f8389",
   "metadata": {},
   "outputs": [],
   "source": [
    "predictions"
   ]
  },
  {
   "cell_type": "code",
   "execution_count": null,
   "id": "f8ca7fed",
   "metadata": {},
   "outputs": [],
   "source": [
    "scores"
   ]
  },
  {
   "cell_type": "code",
   "execution_count": null,
   "id": "9b24e6b8",
   "metadata": {},
   "outputs": [],
   "source": []
  }
 ],
 "metadata": {
  "kernelspec": {
   "display_name": "Python 3",
   "language": "python",
   "name": "python3"
  },
  "language_info": {
   "codemirror_mode": {
    "name": "ipython",
    "version": 3
   },
   "file_extension": ".py",
   "mimetype": "text/x-python",
   "name": "python",
   "nbconvert_exporter": "python",
   "pygments_lexer": "ipython3",
   "version": "3.7.10"
  }
 },
 "nbformat": 4,
 "nbformat_minor": 5
}
